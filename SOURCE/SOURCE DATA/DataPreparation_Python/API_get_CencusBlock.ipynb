{
 "cells": [
  {
   "cell_type": "code",
   "execution_count": 1,
   "metadata": {},
   "outputs": [],
   "source": [
    "import requests\n",
    "import pandas as pd"
   ]
  },
  {
   "cell_type": "code",
   "execution_count": 2,
   "metadata": {},
   "outputs": [],
   "source": [
    "# get dataframe\n",
    "filename = '2yzn-sicd'\n",
    "df = pd.read_csv(filename + '.csv', nrows = 5) # đọc 10 dòng thôi, đọc 1000 dòng hơi lâu :)\n",
    "#df = pd.read_json('2yzn-sicd.json', nrows = 10)"
   ]
  },
  {
   "cell_type": "code",
   "execution_count": 3,
   "metadata": {},
   "outputs": [],
   "source": [
    "df_BoroCT2010 = pd.DataFrame(columns=['pickup_BoroCT2010', 'dropoff_BoroCT2010'])"
   ]
  },
  {
   "cell_type": "code",
   "execution_count": 4,
   "metadata": {},
   "outputs": [
    {
     "name": "stdout",
     "output_type": "stream",
     "text": [
      "[{'block_fips': '360610160011000', 'bbox': [-73.954656, 40.785874, -73.952551, 40.787227], 'county_fips': '36061', 'county_name': 'New York', 'state_fips': '36', 'state_code': 'NY', 'state_name': 'New York', 'block_pop_2015': 881, 'amt': 'AMT001', 'bea': 'BEA010', 'bta': 'BTA321', 'cma': 'CMA001', 'eag': 'EAG001', 'ivm': 'IVM001', 'mea': 'MEA002', 'mta': 'MTA001', 'pea': 'PEA001', 'rea': 'REA001', 'rpc': 'RPC001', 'vpc': 'VPC001'}]\n",
      "[{'block_fips': '360610146025000', 'bbox': [-73.951248, 40.777553, -73.948422, 40.779179], 'county_fips': '36061', 'county_name': 'New York', 'state_fips': '36', 'state_code': 'NY', 'state_name': 'New York', 'block_pop_2015': 1008, 'amt': 'AMT001', 'bea': 'BEA010', 'bta': 'BTA321', 'cma': 'CMA001', 'eag': 'EAG001', 'ivm': 'IVM001', 'mea': 'MEA002', 'mta': 'MTA001', 'pea': 'PEA001', 'rea': 'REA001', 'rpc': 'RPC001', 'vpc': 'VPC001'}, {'block_fips': '360610146026000', 'bbox': [-73.951743, 40.776876, -73.94888, 40.778551], 'county_fips': '36061', 'county_name': 'New York', 'state_fips': '36', 'state_code': 'NY', 'state_name': 'New York', 'block_pop_2015': 1682, 'amt': 'AMT001', 'bea': 'BEA010', 'bta': 'BTA321', 'cma': 'CMA001', 'eag': 'EAG001', 'ivm': 'IVM001', 'mea': 'MEA002', 'mta': 'MTA001', 'pea': 'PEA001', 'rea': 'REA001', 'rpc': 'RPC001', 'vpc': 'VPC001'}]\n",
      "[{'block_fips': '360610080001002', 'bbox': [-73.977435, 40.748863, -73.975383, 40.750157], 'county_fips': '36061', 'county_name': 'New York', 'state_fips': '36', 'state_code': 'NY', 'state_name': 'New York', 'block_pop_2015': 236, 'amt': 'AMT001', 'bea': 'BEA010', 'bta': 'BTA321', 'cma': 'CMA001', 'eag': 'EAG001', 'ivm': 'IVM001', 'mea': 'MEA002', 'mta': 'MTA001', 'pea': 'PEA001', 'rea': 'REA001', 'rpc': 'RPC001', 'vpc': 'VPC001'}, {'block_fips': '360610080001003', 'bbox': [-73.977888, 40.748245, -73.975835, 40.74954], 'county_fips': '36061', 'county_name': 'New York', 'state_fips': '36', 'state_code': 'NY', 'state_name': 'New York', 'block_pop_2015': 706, 'amt': 'AMT001', 'bea': 'BEA010', 'bta': 'BTA321', 'cma': 'CMA001', 'eag': 'EAG001', 'ivm': 'IVM001', 'mea': 'MEA002', 'mta': 'MTA001', 'pea': 'PEA001', 'rea': 'REA001', 'rpc': 'RPC001', 'vpc': 'VPC001'}]\n",
      "[{'block_fips': '360610101001002', 'bbox': [-73.993948, 40.750319, -73.990623, 40.75219], 'county_fips': '36061', 'county_name': 'New York', 'state_fips': '36', 'state_code': 'NY', 'state_name': 'New York', 'block_pop_2015': 25, 'amt': 'AMT001', 'bea': 'BEA010', 'bta': 'BTA321', 'cma': 'CMA001', 'eag': 'EAG001', 'ivm': 'IVM001', 'mea': 'MEA002', 'mta': 'MTA001', 'pea': 'PEA001', 'rea': 'REA001', 'rpc': 'RPC001', 'vpc': 'VPC001'}, {'block_fips': '360610101001003', 'bbox': [-73.994329, 40.749706, -73.99111, 40.751522], 'county_fips': '36061', 'county_name': 'New York', 'state_fips': '36', 'state_code': 'NY', 'state_name': 'New York', 'block_pop_2015': 67, 'amt': 'AMT001', 'bea': 'BEA010', 'bta': 'BTA321', 'cma': 'CMA001', 'eag': 'EAG001', 'ivm': 'IVM001', 'mea': 'MEA002', 'mta': 'MTA001', 'pea': 'PEA001', 'rea': 'REA001', 'rpc': 'RPC001', 'vpc': 'VPC001'}]\n",
      "[{'block_fips': '360610153007001', 'bbox': [-73.981573, 40.772417, -73.978281, 40.774227], 'county_fips': '36061', 'county_name': 'New York', 'state_fips': '36', 'state_code': 'NY', 'state_name': 'New York', 'block_pop_2015': 390, 'amt': 'AMT001', 'bea': 'BEA010', 'bta': 'BTA321', 'cma': 'CMA001', 'eag': 'EAG001', 'ivm': 'IVM001', 'mea': 'MEA002', 'mta': 'MTA001', 'pea': 'PEA001', 'rea': 'REA001', 'rpc': 'RPC001', 'vpc': 'VPC001'}]\n"
     ]
    }
   ],
   "source": [
    "for i in range(len(df)):\n",
    "    #\n",
    "    urlPickup = \"https://geo.fcc.gov/api/census/area?lat={}&lon={}&format=json\".format(df.pickup_latitude[i], df.pickup_longitude[i])\n",
    "    urlDropoff = \"https://geo.fcc.gov/api/census/area?lat={}&lon={}&format=json\".format(df.dropoff_latitude[i], df.dropoff_longitude[i])\n",
    "\n",
    "    # use API to get CencusBlock from coordinate\n",
    "    pickup_result = requests.get(urlPickup).json()\n",
    "    dropoff_result = requests.get(urlDropoff).json()\n",
    "    \n",
    "    # Get FIPS\n",
    "    if len(pickup_result['results']) == 0:\n",
    "        pickup_BoroCT2010 = '0'\n",
    "    else:\n",
    "        FIPS_pickup = pickup_result['results'][0]['block_fips']\n",
    "          \n",
    "        if FIPS_pickup[:5] == '36061':\n",
    "            pickup_BoroCT2010 = '1' + FIPS_pickup[5:11]\n",
    "        elif FIPS_pickup[:5] == '36005':\n",
    "            pickup_BoroCT2010 = '2' + FIPS_pickup[5:11]\n",
    "        elif FIPS_pickup[:5] == '36047':\n",
    "            pickup_BoroCT2010 = '3' + FIPS_pickup[5:11]\n",
    "        elif FIPS_pickup[:5] == '36081':\n",
    "            pickup_BoroCT2010 = '4' + FIPS_pickup[5:11]\n",
    "        elif FIPS_pickup[:5] == '36085':\n",
    "            pickup_BoroCT2010 = '5' + FIPS_pickup[5:11]\n",
    "    \n",
    "    \n",
    "    if len(dropoff_result['results']) == 0:\n",
    "        dropoff_BoroCT2010 = '0'\n",
    "    else:\n",
    "        FIPS_dropoff = dropoff_result['results'][0]['block_fips']  \n",
    "        if FIPS_dropoff[:5] == '36061':\n",
    "            dropoff_BoroCT2010 = '1' + FIPS_dropoff[5:11]\n",
    "        elif FIPS_dropoff[:5] == '36005':\n",
    "             dropoff_BoroCT2010 = '2' + FIPS_dropoff[5:11]\n",
    "        elif FIPS_dropoff[:5] == '36047':\n",
    "            dropoff_BoroCT2010 = '3' + FIPS_dropoff[5:11]\n",
    "        elif FIPS_dropoff[:5] == '36081':\n",
    "            dropoff_BoroCT2010 = '4' + FIPS_dropoff[5:11]\n",
    "        elif FIPS_dropoff[:5] == '36085':\n",
    "            dropoff_BoroCT2010 = '5' + FIPS_dropoff[5:11]    \n",
    "    \n",
    "    # Add value to df_BoroCT2010\n",
    "    df_BoroCT2010 = df_BoroCT2010.append({'pickup_BoroCT2010': pickup_BoroCT2010, 'dropoff_BoroCT2010': dropoff_BoroCT2010}, ignore_index=True)"
   ]
  },
  {
   "cell_type": "code",
   "execution_count": 5,
   "metadata": {},
   "outputs": [
    {
     "data": {
      "text/html": [
       "<div>\n",
       "<style scoped>\n",
       "    .dataframe tbody tr th:only-of-type {\n",
       "        vertical-align: middle;\n",
       "    }\n",
       "\n",
       "    .dataframe tbody tr th {\n",
       "        vertical-align: top;\n",
       "    }\n",
       "\n",
       "    .dataframe thead th {\n",
       "        text-align: right;\n",
       "    }\n",
       "</style>\n",
       "<table border=\"1\" class=\"dataframe\">\n",
       "  <thead>\n",
       "    <tr style=\"text-align: right;\">\n",
       "      <th></th>\n",
       "      <th>pickup_BoroCT2010</th>\n",
       "      <th>dropoff_BoroCT2010</th>\n",
       "    </tr>\n",
       "  </thead>\n",
       "  <tbody>\n",
       "    <tr>\n",
       "      <th>0</th>\n",
       "      <td>1016001</td>\n",
       "      <td>1009800</td>\n",
       "    </tr>\n",
       "    <tr>\n",
       "      <th>1</th>\n",
       "      <td>1014602</td>\n",
       "      <td>1014801</td>\n",
       "    </tr>\n",
       "    <tr>\n",
       "      <th>2</th>\n",
       "      <td>1008000</td>\n",
       "      <td>2002300</td>\n",
       "    </tr>\n",
       "    <tr>\n",
       "      <th>3</th>\n",
       "      <td>1010100</td>\n",
       "      <td>1009000</td>\n",
       "    </tr>\n",
       "    <tr>\n",
       "      <th>4</th>\n",
       "      <td>1015300</td>\n",
       "      <td>1012800</td>\n",
       "    </tr>\n",
       "    <tr>\n",
       "      <th>5</th>\n",
       "      <td>1012100</td>\n",
       "      <td>1007500</td>\n",
       "    </tr>\n",
       "    <tr>\n",
       "      <th>6</th>\n",
       "      <td>1017900</td>\n",
       "      <td>1019100</td>\n",
       "    </tr>\n",
       "    <tr>\n",
       "      <th>7</th>\n",
       "      <td>1003300</td>\n",
       "      <td>1003700</td>\n",
       "    </tr>\n",
       "    <tr>\n",
       "      <th>8</th>\n",
       "      <td>1011900</td>\n",
       "      <td>1007800</td>\n",
       "    </tr>\n",
       "    <tr>\n",
       "      <th>9</th>\n",
       "      <td>1016500</td>\n",
       "      <td>1013800</td>\n",
       "    </tr>\n",
       "  </tbody>\n",
       "</table>\n",
       "</div>"
      ],
      "text/plain": [
       "  pickup_BoroCT2010 dropoff_BoroCT2010\n",
       "0           1016001            1009800\n",
       "1           1014602            1014801\n",
       "2           1008000            2002300\n",
       "3           1010100            1009000\n",
       "4           1015300            1012800\n",
       "5           1012100            1007500\n",
       "6           1017900            1019100\n",
       "7           1003300            1003700\n",
       "8           1011900            1007800\n",
       "9           1016500            1013800"
      ]
     },
     "execution_count": 5,
     "metadata": {},
     "output_type": "execute_result"
    }
   ],
   "source": [
    "df_BoroCT2010"
   ]
  },
  {
   "cell_type": "code",
   "execution_count": 6,
   "metadata": {},
   "outputs": [
    {
     "data": {
      "text/html": [
       "<div>\n",
       "<style scoped>\n",
       "    .dataframe tbody tr th:only-of-type {\n",
       "        vertical-align: middle;\n",
       "    }\n",
       "\n",
       "    .dataframe tbody tr th {\n",
       "        vertical-align: top;\n",
       "    }\n",
       "\n",
       "    .dataframe thead th {\n",
       "        text-align: right;\n",
       "    }\n",
       "</style>\n",
       "<table border=\"1\" class=\"dataframe\">\n",
       "  <thead>\n",
       "    <tr style=\"text-align: right;\">\n",
       "      <th></th>\n",
       "      <th>pickup_BoroCT2010</th>\n",
       "      <th>dropoff_BoroCT2010</th>\n",
       "    </tr>\n",
       "  </thead>\n",
       "  <tbody>\n",
       "    <tr>\n",
       "      <th>0</th>\n",
       "      <td>1016001</td>\n",
       "      <td>1009800</td>\n",
       "    </tr>\n",
       "    <tr>\n",
       "      <th>1</th>\n",
       "      <td>1014602</td>\n",
       "      <td>1014801</td>\n",
       "    </tr>\n",
       "    <tr>\n",
       "      <th>2</th>\n",
       "      <td>1008000</td>\n",
       "      <td>2002300</td>\n",
       "    </tr>\n",
       "    <tr>\n",
       "      <th>3</th>\n",
       "      <td>1010100</td>\n",
       "      <td>1009000</td>\n",
       "    </tr>\n",
       "    <tr>\n",
       "      <th>4</th>\n",
       "      <td>1015300</td>\n",
       "      <td>1012800</td>\n",
       "    </tr>\n",
       "    <tr>\n",
       "      <th>5</th>\n",
       "      <td>1012100</td>\n",
       "      <td>1007500</td>\n",
       "    </tr>\n",
       "    <tr>\n",
       "      <th>6</th>\n",
       "      <td>1017900</td>\n",
       "      <td>1019100</td>\n",
       "    </tr>\n",
       "    <tr>\n",
       "      <th>7</th>\n",
       "      <td>1003300</td>\n",
       "      <td>1003700</td>\n",
       "    </tr>\n",
       "    <tr>\n",
       "      <th>8</th>\n",
       "      <td>1011900</td>\n",
       "      <td>1007800</td>\n",
       "    </tr>\n",
       "    <tr>\n",
       "      <th>9</th>\n",
       "      <td>1016500</td>\n",
       "      <td>1013800</td>\n",
       "    </tr>\n",
       "  </tbody>\n",
       "</table>\n",
       "</div>"
      ],
      "text/plain": [
       "  pickup_BoroCT2010 dropoff_BoroCT2010\n",
       "0           1016001            1009800\n",
       "1           1014602            1014801\n",
       "2           1008000            2002300\n",
       "3           1010100            1009000\n",
       "4           1015300            1012800\n",
       "5           1012100            1007500\n",
       "6           1017900            1019100\n",
       "7           1003300            1003700\n",
       "8           1011900            1007800\n",
       "9           1016500            1013800"
      ]
     },
     "execution_count": 6,
     "metadata": {},
     "output_type": "execute_result"
    }
   ],
   "source": [
    "df[['pickup_BoroCT2010','dropoff_BoroCT2010']] = df_BoroCT2010[['pickup_BoroCT2010','dropoff_BoroCT2010']]"
   ]
  },
  {
   "cell_type": "code",
   "execution_count": 7,
   "metadata": {},
   "outputs": [],
   "source": [
    "df.to_csv('abc.csv')"
   ]
  },
  {
   "cell_type": "code",
   "execution_count": null,
   "metadata": {},
   "outputs": [],
   "source": [
    "df"
   ]
  }
 ],
 "metadata": {
  "kernelspec": {
   "display_name": "Python 3",
   "language": "python",
   "name": "python3"
  },
  "language_info": {
   "codemirror_mode": {
    "name": "ipython",
    "version": 3
   },
   "file_extension": ".py",
   "mimetype": "text/x-python",
   "name": "python",
   "nbconvert_exporter": "python",
   "pygments_lexer": "ipython3",
   "version": "3.7.6"
  }
 },
 "nbformat": 4,
 "nbformat_minor": 4
}
